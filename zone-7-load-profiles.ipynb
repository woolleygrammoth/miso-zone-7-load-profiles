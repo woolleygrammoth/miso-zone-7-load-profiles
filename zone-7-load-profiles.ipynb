{
 "cells": [
  {
   "attachments": {},
   "cell_type": "markdown",
   "metadata": {},
   "source": [
    "## Constructing Zone 7 Load Profiles\n",
    "\n",
    "*raw_csv* contains the following data: \n",
    "- Consumers Energy 2019 8760-hour load profile\n",
    "- DTE 2018 8760-hour load profile\n",
    "- DTW 2019 8760-hour load profile\n",
    "\n",
    "Each file contains the load broken down by customer class and rate. \n",
    "\n",
    "My goal is to construct a 2019 8760-hour load profile for MISO Zone 7, whose shape we assume will be well-approximated by combining the 2019 Consumers Energy data with the 2019 DTE data, since these two utilities make up around 90% of the total load in zone 7. The rest is made up from many smaller utilities whose load profiles (we assume) will not dramatically affect the shape. We'll get the overall load for Zone 7 by scaling "
   ]
  },
  {
   "cell_type": "markdown",
   "metadata": {},
   "source": []
  }
 ],
 "metadata": {
  "language_info": {
   "name": "python"
  },
  "orig_nbformat": 4
 },
 "nbformat": 4,
 "nbformat_minor": 2
}
